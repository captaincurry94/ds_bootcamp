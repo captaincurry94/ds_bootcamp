{
 "cells": [
  {
   "cell_type": "code",
   "execution_count": 1,
   "metadata": {},
   "outputs": [],
   "source": [
    "import math\n",
    "import operator\n",
    "import string\n",
    "\n",
    "class RPN_Calculator():\n",
    "    def __init__(self):\n",
    "        self.input_string = ''\n",
    "        self.stack = []\n",
    "        self.operators = {'+':operator.add,\n",
    "       '-':operator.sub,\n",
    "       '*':operator.mul,\n",
    "       '/':operator.truediv,\n",
    "       '^':operator.pow,\n",
    "       'sin':math.sin,\n",
    "       'tan':math.tan,\n",
    "       'cos':math.cos,\n",
    "       'pi':math.pi}\n",
    "    \n",
    "    def get_input(self):\n",
    "        self.input_string = input('Bitte geben Sie Ihre nächste Berechnung ein oder schreiben Sie \"clear\" um den Speicher zu löschen').split(' ')\n",
    "\n",
    "    \n",
    "    def check_input(self, input_string):\n",
    "        if str(input_string[0]).lower() == 'clear':\n",
    "            self.stack = []\n",
    "            return 'clear'\n",
    "        for element in input_string:\n",
    "            if element in string.ascii_letters:\n",
    "                return False\n",
    "        if input_string[-1] not in self.operators:\n",
    "            return False\n",
    "        if len(input_string) < 2:\n",
    "            print('Der input ist zu kurz')\n",
    "            return False\n",
    "        else:\n",
    "            return True\n",
    "    \n",
    "    def is_number(self, number):\n",
    "        try:\n",
    "            float(number)\n",
    "            return True\n",
    "        except ValueError:\n",
    "            pass\n",
    "    \n",
    "    def calculate(self):\n",
    "        \n",
    "        for element in self.input_string:\n",
    "            stack = self.stack\n",
    "            if self.is_number(element):\n",
    "                stack.append(int(element))\n",
    "            else:\n",
    "                if len(stack) < 2:\n",
    "                    print('Sie haben zu wenige Zahlen eingegeben, um diese Berechnung durchzuführen.')\n",
    "                    break\n",
    "                else:\n",
    "                    num2 = stack.pop()\n",
    "                    num1 = stack.pop()\n",
    "                    result = self.operators[element](num1,num2)\n",
    "                    stack.append(result)\n",
    "            self.stack = stack \n",
    "        #if len(self.stack) == 1:\n",
    "        print('Result: ' + str(self.stack[0]))\n",
    "            #self.stack = []\n",
    "                    \n",
    "    \n",
    "    def run(self):\n",
    "        self.get_input()            \n",
    "        if self.check_input(self.input_string) == 'clear':\n",
    "            print('Der Speicher wurde gelöscht.')\n",
    "        elif self.check_input(self.input_string):\n",
    "\n",
    "            self.calculate()\n",
    "        else:\n",
    "            print('Der Input ist fehlerhaft. Bitte erneut angeben.')\n",
    "        \n",
    "        self.run()\n",
    "        "
   ]
  },
  {
   "cell_type": "code",
   "execution_count": 2,
   "metadata": {},
   "outputs": [],
   "source": [
    "rpn = RPN_Calculator()"
   ]
  },
  {
   "cell_type": "code",
   "execution_count": null,
   "metadata": {},
   "outputs": [
    {
     "name": "stdout",
     "output_type": "stream",
     "text": [
      "Bitte geben Sie Ihre nächste Berechnung ein oder schreiben Sie \"clear\" um den Speicher zu löschen8 9 -\n",
      "Result: -1\n",
      "Bitte geben Sie Ihre nächste Berechnung ein oder schreiben Sie \"clear\" um den Speicher zu löschen10 *\n",
      "Result: -10\n",
      "Bitte geben Sie Ihre nächste Berechnung ein oder schreiben Sie \"clear\" um den Speicher zu löschen-9 *\n",
      "Result: 90\n",
      "Bitte geben Sie Ihre nächste Berechnung ein oder schreiben Sie \"clear\" um den Speicher zu löschen8 / /\n",
      "Sie haben zu wenige Zahlen eingegeben, um diese Berechnung durchzuführen.\n",
      "Result: 11.25\n"
     ]
    }
   ],
   "source": [
    "rpn.run()"
   ]
  },
  {
   "cell_type": "code",
   "execution_count": null,
   "metadata": {},
   "outputs": [],
   "source": []
  },
  {
   "cell_type": "code",
   "execution_count": null,
   "metadata": {},
   "outputs": [],
   "source": []
  },
  {
   "cell_type": "code",
   "execution_count": null,
   "metadata": {},
   "outputs": [],
   "source": []
  }
 ],
 "metadata": {
  "kernelspec": {
   "display_name": "Python 3",
   "language": "python",
   "name": "python3"
  },
  "language_info": {
   "codemirror_mode": {
    "name": "ipython",
    "version": 3
   },
   "file_extension": ".py",
   "mimetype": "text/x-python",
   "name": "python",
   "nbconvert_exporter": "python",
   "pygments_lexer": "ipython3",
   "version": "3.8.3"
  }
 },
 "nbformat": 4,
 "nbformat_minor": 4
}
